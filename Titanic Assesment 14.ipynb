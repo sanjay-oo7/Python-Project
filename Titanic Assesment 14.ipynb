{
 "cells": [
  {
   "cell_type": "code",
   "execution_count": null,
   "id": "ece40ce4-b277-4b6f-9e8b-59d422074394",
   "metadata": {},
   "outputs": [],
   "source": []
  },
  {
   "cell_type": "code",
   "execution_count": 140,
   "id": "2843c3a0-771e-458b-bf94-79cfa6d59fce",
   "metadata": {},
   "outputs": [],
   "source": [
    "import pandas as pd"
   ]
  },
  {
   "cell_type": "code",
   "execution_count": 141,
   "id": "013fbfdd-04ba-4714-9d47-c1ae33fa8ea2",
   "metadata": {},
   "outputs": [],
   "source": [
    "df = pd.read_csv('titanic.csv')"
   ]
  },
  {
   "cell_type": "code",
   "execution_count": 142,
   "id": "b3a9596a-37ee-4986-b95a-d9bc8f666e0d",
   "metadata": {},
   "outputs": [
    {
     "data": {
      "text/html": [
       "<div>\n",
       "<style scoped>\n",
       "    .dataframe tbody tr th:only-of-type {\n",
       "        vertical-align: middle;\n",
       "    }\n",
       "\n",
       "    .dataframe tbody tr th {\n",
       "        vertical-align: top;\n",
       "    }\n",
       "\n",
       "    .dataframe thead th {\n",
       "        text-align: right;\n",
       "    }\n",
       "</style>\n",
       "<table border=\"1\" class=\"dataframe\">\n",
       "  <thead>\n",
       "    <tr style=\"text-align: right;\">\n",
       "      <th></th>\n",
       "      <th>pclass</th>\n",
       "      <th>survived</th>\n",
       "      <th>name</th>\n",
       "      <th>sex</th>\n",
       "      <th>age</th>\n",
       "      <th>sibsp</th>\n",
       "      <th>parch</th>\n",
       "      <th>ticket</th>\n",
       "      <th>fare</th>\n",
       "      <th>cabin</th>\n",
       "      <th>embarked</th>\n",
       "      <th>boat</th>\n",
       "      <th>body</th>\n",
       "      <th>home.dest</th>\n",
       "    </tr>\n",
       "  </thead>\n",
       "  <tbody>\n",
       "    <tr>\n",
       "      <th>0</th>\n",
       "      <td>1</td>\n",
       "      <td>1</td>\n",
       "      <td>Allen, Miss. Elisabeth Walton</td>\n",
       "      <td>female</td>\n",
       "      <td>29.00</td>\n",
       "      <td>0</td>\n",
       "      <td>0</td>\n",
       "      <td>24160</td>\n",
       "      <td>211.3375</td>\n",
       "      <td>B5</td>\n",
       "      <td>S</td>\n",
       "      <td>2</td>\n",
       "      <td>NaN</td>\n",
       "      <td>St Louis, MO</td>\n",
       "    </tr>\n",
       "    <tr>\n",
       "      <th>1</th>\n",
       "      <td>1</td>\n",
       "      <td>1</td>\n",
       "      <td>Allison, Master. Hudson Trevor</td>\n",
       "      <td>male</td>\n",
       "      <td>0.92</td>\n",
       "      <td>1</td>\n",
       "      <td>2</td>\n",
       "      <td>113781</td>\n",
       "      <td>151.5500</td>\n",
       "      <td>C22 C26</td>\n",
       "      <td>S</td>\n",
       "      <td>11</td>\n",
       "      <td>NaN</td>\n",
       "      <td>Montreal, PQ / Chesterville, ON</td>\n",
       "    </tr>\n",
       "    <tr>\n",
       "      <th>2</th>\n",
       "      <td>1</td>\n",
       "      <td>0</td>\n",
       "      <td>Allison, Miss. Helen Loraine</td>\n",
       "      <td>female</td>\n",
       "      <td>2.00</td>\n",
       "      <td>1</td>\n",
       "      <td>2</td>\n",
       "      <td>113781</td>\n",
       "      <td>151.5500</td>\n",
       "      <td>C22 C26</td>\n",
       "      <td>S</td>\n",
       "      <td>NaN</td>\n",
       "      <td>NaN</td>\n",
       "      <td>Montreal, PQ / Chesterville, ON</td>\n",
       "    </tr>\n",
       "    <tr>\n",
       "      <th>3</th>\n",
       "      <td>1</td>\n",
       "      <td>0</td>\n",
       "      <td>Allison, Mr. Hudson Joshua Creighton</td>\n",
       "      <td>male</td>\n",
       "      <td>30.00</td>\n",
       "      <td>1</td>\n",
       "      <td>2</td>\n",
       "      <td>113781</td>\n",
       "      <td>151.5500</td>\n",
       "      <td>C22 C26</td>\n",
       "      <td>S</td>\n",
       "      <td>NaN</td>\n",
       "      <td>135.0</td>\n",
       "      <td>Montreal, PQ / Chesterville, ON</td>\n",
       "    </tr>\n",
       "    <tr>\n",
       "      <th>4</th>\n",
       "      <td>1</td>\n",
       "      <td>0</td>\n",
       "      <td>Allison, Mrs. Hudson J C (Bessie Waldo Daniels)</td>\n",
       "      <td>female</td>\n",
       "      <td>25.00</td>\n",
       "      <td>1</td>\n",
       "      <td>2</td>\n",
       "      <td>113781</td>\n",
       "      <td>151.5500</td>\n",
       "      <td>C22 C26</td>\n",
       "      <td>S</td>\n",
       "      <td>NaN</td>\n",
       "      <td>NaN</td>\n",
       "      <td>Montreal, PQ / Chesterville, ON</td>\n",
       "    </tr>\n",
       "    <tr>\n",
       "      <th>...</th>\n",
       "      <td>...</td>\n",
       "      <td>...</td>\n",
       "      <td>...</td>\n",
       "      <td>...</td>\n",
       "      <td>...</td>\n",
       "      <td>...</td>\n",
       "      <td>...</td>\n",
       "      <td>...</td>\n",
       "      <td>...</td>\n",
       "      <td>...</td>\n",
       "      <td>...</td>\n",
       "      <td>...</td>\n",
       "      <td>...</td>\n",
       "      <td>...</td>\n",
       "    </tr>\n",
       "    <tr>\n",
       "      <th>1304</th>\n",
       "      <td>3</td>\n",
       "      <td>0</td>\n",
       "      <td>Zabour, Miss. Hileni</td>\n",
       "      <td>female</td>\n",
       "      <td>14.50</td>\n",
       "      <td>1</td>\n",
       "      <td>0</td>\n",
       "      <td>2665</td>\n",
       "      <td>14.4542</td>\n",
       "      <td>NaN</td>\n",
       "      <td>C</td>\n",
       "      <td>NaN</td>\n",
       "      <td>328.0</td>\n",
       "      <td>NaN</td>\n",
       "    </tr>\n",
       "    <tr>\n",
       "      <th>1305</th>\n",
       "      <td>3</td>\n",
       "      <td>0</td>\n",
       "      <td>Zabour, Miss. Thamine</td>\n",
       "      <td>female</td>\n",
       "      <td>NaN</td>\n",
       "      <td>1</td>\n",
       "      <td>0</td>\n",
       "      <td>2665</td>\n",
       "      <td>14.4542</td>\n",
       "      <td>NaN</td>\n",
       "      <td>C</td>\n",
       "      <td>NaN</td>\n",
       "      <td>NaN</td>\n",
       "      <td>NaN</td>\n",
       "    </tr>\n",
       "    <tr>\n",
       "      <th>1306</th>\n",
       "      <td>3</td>\n",
       "      <td>0</td>\n",
       "      <td>Zakarian, Mr. Mapriededer</td>\n",
       "      <td>male</td>\n",
       "      <td>26.50</td>\n",
       "      <td>0</td>\n",
       "      <td>0</td>\n",
       "      <td>2656</td>\n",
       "      <td>7.2250</td>\n",
       "      <td>NaN</td>\n",
       "      <td>C</td>\n",
       "      <td>NaN</td>\n",
       "      <td>304.0</td>\n",
       "      <td>NaN</td>\n",
       "    </tr>\n",
       "    <tr>\n",
       "      <th>1307</th>\n",
       "      <td>3</td>\n",
       "      <td>0</td>\n",
       "      <td>Zakarian, Mr. Ortin</td>\n",
       "      <td>male</td>\n",
       "      <td>27.00</td>\n",
       "      <td>0</td>\n",
       "      <td>0</td>\n",
       "      <td>2670</td>\n",
       "      <td>7.2250</td>\n",
       "      <td>NaN</td>\n",
       "      <td>C</td>\n",
       "      <td>NaN</td>\n",
       "      <td>NaN</td>\n",
       "      <td>NaN</td>\n",
       "    </tr>\n",
       "    <tr>\n",
       "      <th>1308</th>\n",
       "      <td>3</td>\n",
       "      <td>0</td>\n",
       "      <td>Zimmerman, Mr. Leo</td>\n",
       "      <td>male</td>\n",
       "      <td>29.00</td>\n",
       "      <td>0</td>\n",
       "      <td>0</td>\n",
       "      <td>315082</td>\n",
       "      <td>7.8750</td>\n",
       "      <td>NaN</td>\n",
       "      <td>S</td>\n",
       "      <td>NaN</td>\n",
       "      <td>NaN</td>\n",
       "      <td>NaN</td>\n",
       "    </tr>\n",
       "  </tbody>\n",
       "</table>\n",
       "<p>1309 rows × 14 columns</p>\n",
       "</div>"
      ],
      "text/plain": [
       "      pclass  survived                                             name  \\\n",
       "0          1         1                    Allen, Miss. Elisabeth Walton   \n",
       "1          1         1                   Allison, Master. Hudson Trevor   \n",
       "2          1         0                     Allison, Miss. Helen Loraine   \n",
       "3          1         0             Allison, Mr. Hudson Joshua Creighton   \n",
       "4          1         0  Allison, Mrs. Hudson J C (Bessie Waldo Daniels)   \n",
       "...      ...       ...                                              ...   \n",
       "1304       3         0                             Zabour, Miss. Hileni   \n",
       "1305       3         0                            Zabour, Miss. Thamine   \n",
       "1306       3         0                        Zakarian, Mr. Mapriededer   \n",
       "1307       3         0                              Zakarian, Mr. Ortin   \n",
       "1308       3         0                               Zimmerman, Mr. Leo   \n",
       "\n",
       "         sex    age  sibsp  parch  ticket      fare    cabin embarked boat  \\\n",
       "0     female  29.00      0      0   24160  211.3375       B5        S    2   \n",
       "1       male   0.92      1      2  113781  151.5500  C22 C26        S   11   \n",
       "2     female   2.00      1      2  113781  151.5500  C22 C26        S  NaN   \n",
       "3       male  30.00      1      2  113781  151.5500  C22 C26        S  NaN   \n",
       "4     female  25.00      1      2  113781  151.5500  C22 C26        S  NaN   \n",
       "...      ...    ...    ...    ...     ...       ...      ...      ...  ...   \n",
       "1304  female  14.50      1      0    2665   14.4542      NaN        C  NaN   \n",
       "1305  female    NaN      1      0    2665   14.4542      NaN        C  NaN   \n",
       "1306    male  26.50      0      0    2656    7.2250      NaN        C  NaN   \n",
       "1307    male  27.00      0      0    2670    7.2250      NaN        C  NaN   \n",
       "1308    male  29.00      0      0  315082    7.8750      NaN        S  NaN   \n",
       "\n",
       "       body                        home.dest  \n",
       "0       NaN                     St Louis, MO  \n",
       "1       NaN  Montreal, PQ / Chesterville, ON  \n",
       "2       NaN  Montreal, PQ / Chesterville, ON  \n",
       "3     135.0  Montreal, PQ / Chesterville, ON  \n",
       "4       NaN  Montreal, PQ / Chesterville, ON  \n",
       "...     ...                              ...  \n",
       "1304  328.0                              NaN  \n",
       "1305    NaN                              NaN  \n",
       "1306  304.0                              NaN  \n",
       "1307    NaN                              NaN  \n",
       "1308    NaN                              NaN  \n",
       "\n",
       "[1309 rows x 14 columns]"
      ]
     },
     "execution_count": 142,
     "metadata": {},
     "output_type": "execute_result"
    }
   ],
   "source": [
    "df"
   ]
  },
  {
   "cell_type": "markdown",
   "id": "685ab588-96c2-4c07-8528-3f90f489a162",
   "metadata": {},
   "source": [
    "Answer 1"
   ]
  },
  {
   "cell_type": "code",
   "execution_count": 143,
   "id": "1f7ae2e2-1d06-457c-a51e-56d77a5b682d",
   "metadata": {},
   "outputs": [
    {
     "name": "stdout",
     "output_type": "stream",
     "text": [
      "Number of males: 843\n",
      "Number of females: 466\n"
     ]
    }
   ],
   "source": [
    "male_count = df['sex'].value_counts()['male']\n",
    "female_count = df['sex'].value_counts()['female']\n",
    "\n",
    "print(f'Number of males: {male_count}')\n",
    "print(f'Number of females: {female_count}')"
   ]
  },
  {
   "cell_type": "code",
   "execution_count": 144,
   "id": "78ae86b9-0539-4fe6-8396-22b5a881d75f",
   "metadata": {},
   "outputs": [],
   "source": [
    "import matplotlib.pyplot as plt"
   ]
  },
  {
   "cell_type": "code",
   "execution_count": 145,
   "id": "fd6b08ed-c897-49bb-8736-e8eadd030c93",
   "metadata": {},
   "outputs": [
    {
     "data": {
      "image/png": "[encoded data removed]",
      "text/plain": [
       "<Figure size 500x500 with 1 Axes>"
      ]
     },
     "metadata": {},
     "output_type": "display_data"
    }
   ],
   "source": [
    "categories = ['Male','Female']\n",
    "values = [male_count, female_count]\n",
    "plt.figure(figsize=(5,5))\n",
    "plt.bar(categories,values, color=['red', 'b'])\n",
    "plt.xlabel('Gender')\n",
    "plt.ylabel('Count')\n",
    "plt.title('Gender Distribution')\n",
    "plt.legend(['Male','Female'])\n",
    "plt.show()"
   ]
  },
  {
   "cell_type": "markdown",
   "id": "20857ece-ef5b-4e14-aee4-3692f2dd5a9d",
   "metadata": {},
   "source": [
    "Answer 2"
   ]
  },
  {
   "cell_type": "code",
   "execution_count": 146,
   "id": "a8735367-cb20-4362-bd41-ab31da9ad0b3",
   "metadata": {},
   "outputs": [
    {
     "data": {
      "text/plain": [
       "33.29547928134557"
      ]
     },
     "execution_count": 146,
     "metadata": {},
     "output_type": "execute_result"
    }
   ],
   "source": [
    "df['fare'].mean()"
   ]
  },
  {
   "cell_type": "code",
   "execution_count": 147,
   "id": "1f5fc962-f6fb-4cdc-96db-6193f59c6d21",
   "metadata": {},
   "outputs": [
    {
     "data": {
      "text/html": [
       "<div>\n",
       "<style scoped>\n",
       "    .dataframe tbody tr th:only-of-type {\n",
       "        vertical-align: middle;\n",
       "    }\n",
       "\n",
       "    .dataframe tbody tr th {\n",
       "        vertical-align: top;\n",
       "    }\n",
       "\n",
       "    .dataframe thead th {\n",
       "        text-align: right;\n",
       "    }\n",
       "</style>\n",
       "<table border=\"1\" class=\"dataframe\">\n",
       "  <thead>\n",
       "    <tr style=\"text-align: right;\">\n",
       "      <th></th>\n",
       "      <th>pclass</th>\n",
       "      <th>survived</th>\n",
       "      <th>name</th>\n",
       "      <th>sex</th>\n",
       "      <th>age</th>\n",
       "      <th>sibsp</th>\n",
       "      <th>parch</th>\n",
       "      <th>ticket</th>\n",
       "      <th>fare</th>\n",
       "      <th>cabin</th>\n",
       "      <th>embarked</th>\n",
       "      <th>boat</th>\n",
       "      <th>body</th>\n",
       "      <th>home.dest</th>\n",
       "    </tr>\n",
       "  </thead>\n",
       "  <tbody>\n",
       "  </tbody>\n",
       "</table>\n",
       "</div>"
      ],
      "text/plain": [
       "Empty DataFrame\n",
       "Columns: [pclass, survived, name, sex, age, sibsp, parch, ticket, fare, cabin, embarked, boat, body, home.dest]\n",
       "Index: []"
      ]
     },
     "execution_count": 147,
     "metadata": {},
     "output_type": "execute_result"
    }
   ],
   "source": [
    "df.head(0)"
   ]
  },
  {
   "cell_type": "markdown",
   "id": "32ab1fe2-b628-4723-bd9c-305bca0f2f50",
   "metadata": {},
   "source": [
    "Answer 3"
   ]
  },
  {
   "cell_type": "code",
   "execution_count": 148,
   "id": "dd0bb3ee-6a01-4318-9eb2-e01cc166a8ba",
   "metadata": {},
   "outputs": [
    {
     "name": "stdout",
     "output_type": "stream",
     "text": [
      "Ticket Counts: ticket\n",
      "CA. 2343    11\n",
      "1601         8\n",
      "CA 2144      8\n",
      "PC 17608     7\n",
      "347077       7\n",
      "Name: count, dtype: int64\n"
     ]
    },
    {
     "data": {
      "image/png": "[encoded data removed]",
      "text/plain": [
       "<Figure size 1200x600 with 1 Axes>"
      ]
     },
     "metadata": {},
     "output_type": "display_data"
    }
   ],
   "source": [
    "import seaborn as sns\n",
    "ticket_counts = df['ticket'].value_counts()\n",
    "print(\"Ticket Counts:\", ticket_counts.head())\n",
    "\n",
    "plt.figure(figsize=(12, 6))\n",
    "sns.countplot(x=\"ticket\", data=df,order=df['ticket'].value_counts().index[:10])\n",
    "plt.title('Top 10 Types of Tickets')\n",
    "plt.xlabel('Count')\n",
    "plt.ylabel('Ticket')\n",
    "plt.show()"
   ]
  },
  {
   "cell_type": "markdown",
   "id": "4949ffcd-b96b-4103-88f9-6d975aa03094",
   "metadata": {},
   "source": [
    "Answer 4"
   ]
  },
  {
   "cell_type": "code",
   "execution_count": 149,
   "id": "bb61c7cf-6daf-4427-8d45-fc292a0d4876",
   "metadata": {},
   "outputs": [
    {
     "name": "stdout",
     "output_type": "stream",
     "text": [
      "Male Data Sample:    pclass  survived                                  name   sex    age  sibsp  \\\n",
      "1       1         1        Allison, Master. Hudson Trevor  male   0.92      1   \n",
      "3       1         0  Allison, Mr. Hudson Joshua Creighton  male  30.00      1   \n",
      "5       1         1                   Anderson, Mr. Harry  male  48.00      0   \n",
      "7       1         0                Andrews, Mr. Thomas Jr  male  39.00      0   \n",
      "9       1         0               Artagaveytia, Mr. Ramon  male  71.00      0   \n",
      "\n",
      "   parch    ticket      fare    cabin embarked boat   body  \\\n",
      "1      2    113781  151.5500  C22 C26        S   11    NaN   \n",
      "3      2    113781  151.5500  C22 C26        S  NaN  135.0   \n",
      "5      0     19952   26.5500      E12        S    3    NaN   \n",
      "7      0    112050    0.0000      A36        S  NaN    NaN   \n",
      "9      0  PC 17609   49.5042      NaN        C  NaN   22.0   \n",
      "\n",
      "                         home.dest  \n",
      "1  Montreal, PQ / Chesterville, ON  \n",
      "3  Montreal, PQ / Chesterville, ON  \n",
      "5                     New York, NY  \n",
      "7                      Belfast, NI  \n",
      "9              Montevideo, Uruguay  \n",
      "Female Data Sample:    pclass  survived                                             name     sex  \\\n",
      "0       1         1                    Allen, Miss. Elisabeth Walton  female   \n",
      "2       1         0                     Allison, Miss. Helen Loraine  female   \n",
      "4       1         0  Allison, Mrs. Hudson J C (Bessie Waldo Daniels)  female   \n",
      "6       1         1                Andrews, Miss. Kornelia Theodosia  female   \n",
      "8       1         1    Appleton, Mrs. Edward Dale (Charlotte Lamson)  female   \n",
      "\n",
      "    age  sibsp  parch  ticket      fare    cabin embarked boat  body  \\\n",
      "0  29.0      0      0   24160  211.3375       B5        S    2   NaN   \n",
      "2   2.0      1      2  113781  151.5500  C22 C26        S  NaN   NaN   \n",
      "4  25.0      1      2  113781  151.5500  C22 C26        S  NaN   NaN   \n",
      "6  63.0      1      0   13502   77.9583       D7        S   10   NaN   \n",
      "8  53.0      2      0   11769   51.4792     C101        S    D   NaN   \n",
      "\n",
      "                         home.dest  \n",
      "0                     St Louis, MO  \n",
      "2  Montreal, PQ / Chesterville, ON  \n",
      "4  Montreal, PQ / Chesterville, ON  \n",
      "6                       Hudson, NY  \n",
      "8              Bayside, Queens, NY  \n"
     ]
    }
   ],
   "source": [
    "male_data =df[df['sex'] == 'male']\n",
    "female_data =df[df['sex'] == 'female']\n",
    "print(\"Male Data Sample:\", male_data.head())\n",
    "print(\"Female Data Sample:\", female_data.head())"
   ]
  },
  {
   "cell_type": "markdown",
   "id": "d4d7c0ce-c72a-4c39-ac4d-f39d4c1637a6",
   "metadata": {},
   "source": [
    "Answer 5"
   ]
  },
  {
   "cell_type": "code",
   "execution_count": 150,
   "id": "f92d836c-c460-4cea-a8f4-383ea5300282",
   "metadata": {},
   "outputs": [
    {
     "name": "stdout",
     "output_type": "stream",
     "text": [
      "Most Populated Home Destination: S\n",
      "Least Populated Home Destination: Q\n"
     ]
    }
   ],
   "source": [
    "home_dest_counts = df['embarked'].value_counts()\n",
    "most_populated_home_dest = home_dest_counts.idxmax()\n",
    "least_populated_home_dest = home_dest_counts.idxmin()\n",
    "\n",
    "print(\"Most Populated Home Destination:\", most_populated_home_dest)\n",
    "print(\"Least Populated Home Destination:\", least_populated_home_dest)"
   ]
  },
  {
   "cell_type": "code",
   "execution_count": 151,
   "id": "97e7f66d-1d4c-4655-a48b-360c847a9cce",
   "metadata": {},
   "outputs": [
    {
     "data": {
      "image/png": "[encoded data removed]",
      "text/plain": [
       "<Figure size 500x300 with 1 Axes>"
      ]
     },
     "metadata": {},
     "output_type": "display_data"
    }
   ],
   "source": [
    "plt.figure(figsize=(5,3))\n",
    "sns.countplot(data=df, x='embarked')\n",
    "plt.title('Home Destinations Count')\n",
    "plt.xlabel('Home Destination')\n",
    "plt.ylabel('Count')\n",
    "plt.show()"
   ]
  },
  {
   "cell_type": "markdown",
   "id": "29ee71c2-5180-4305-9a47-5ef81f6fadde",
   "metadata": {},
   "source": [
    "Answer 6"
   ]
  },
  {
   "cell_type": "code",
   "execution_count": 152,
   "id": "04185952-58ed-4c9b-8d8b-96836640694e",
   "metadata": {},
   "outputs": [
    {
     "name": "stdout",
     "output_type": "stream",
     "text": [
      "Total number of parents/children aboard: 504\n"
     ]
    }
   ],
   "source": [
    "total_parch = df['parch'].sum()\n",
    "print(f\"Total number of parents/children aboard: {total_parch}\")"
   ]
  },
  {
   "cell_type": "code",
   "execution_count": 153,
   "id": "7c08ee37-1c35-4ea0-9d91-3b5722247afa",
   "metadata": {},
   "outputs": [
    {
     "data": {
      "text/html": [
       "<div>\n",
       "<style scoped>\n",
       "    .dataframe tbody tr th:only-of-type {\n",
       "        vertical-align: middle;\n",
       "    }\n",
       "\n",
       "    .dataframe tbody tr th {\n",
       "        vertical-align: top;\n",
       "    }\n",
       "\n",
       "    .dataframe thead th {\n",
       "        text-align: right;\n",
       "    }\n",
       "</style>\n",
       "<table border=\"1\" class=\"dataframe\">\n",
       "  <thead>\n",
       "    <tr style=\"text-align: right;\">\n",
       "      <th></th>\n",
       "      <th>pclass</th>\n",
       "      <th>survived</th>\n",
       "      <th>name</th>\n",
       "      <th>sex</th>\n",
       "      <th>age</th>\n",
       "      <th>sibsp</th>\n",
       "      <th>parch</th>\n",
       "      <th>ticket</th>\n",
       "      <th>fare</th>\n",
       "      <th>cabin</th>\n",
       "      <th>embarked</th>\n",
       "      <th>boat</th>\n",
       "      <th>body</th>\n",
       "      <th>home.dest</th>\n",
       "    </tr>\n",
       "  </thead>\n",
       "  <tbody>\n",
       "  </tbody>\n",
       "</table>\n",
       "</div>"
      ],
      "text/plain": [
       "Empty DataFrame\n",
       "Columns: [pclass, survived, name, sex, age, sibsp, parch, ticket, fare, cabin, embarked, boat, body, home.dest]\n",
       "Index: []"
      ]
     },
     "execution_count": 153,
     "metadata": {},
     "output_type": "execute_result"
    }
   ],
   "source": [
    "df.head(0)"
   ]
  },
  {
   "cell_type": "markdown",
   "id": "936038bb-dfac-4e06-8781-5d02f7b7a79b",
   "metadata": {},
   "source": [
    "Answer 7 (A)"
   ]
  },
  {
   "cell_type": "code",
   "execution_count": 154,
   "id": "d300a166-3fa4-4173-902d-c8765c842d13",
   "metadata": {},
   "outputs": [],
   "source": [
    "import pandas as pd\n",
    "from sklearn.preprocessing import LabelEncoder\n",
    "\n",
    "titanic_df = df.copy()"
   ]
  },
  {
   "cell_type": "code",
   "execution_count": 155,
   "id": "dd1d0954-20b8-4878-8cee-d009810095bb",
   "metadata": {},
   "outputs": [
    {
     "name": "stdout",
     "output_type": "stream",
     "text": [
      "Correlation between 'Survived' and 'Embarked': -0.14674473315309633\n"
     ]
    }
   ],
   "source": [
    "df['embarked'] = df['embarked'].map({'C': 1, 'S': 2, 'Q': 3})\n",
    "correlation = df['survived'].corr(df['embarked'])\n",
    "print(f\"Correlation between 'Survived' and 'Embarked': {correlation}\")"
   ]
  },
  {
   "cell_type": "markdown",
   "id": "68a13c8c-83d8-47a7-9560-4a81eab1d8ff",
   "metadata": {},
   "source": [
    "Answer 7(B)"
   ]
  },
  {
   "cell_type": "code",
   "execution_count": 157,
   "id": "7e7626c0-a8c0-49db-a955-27cacfa8de6c",
   "metadata": {},
   "outputs": [
    {
     "name": "stdout",
     "output_type": "stream",
     "text": [
      "Correlation between 'pclass' and 'Embarked': nan\n"
     ]
    }
   ],
   "source": [
    "df['embarked'] = df['embarked'].map({'C': 1, 'S': 2, 'Q': 3})\n",
    "correlation = df['pclass'].corr(df['embarked'])\n",
    "print(f\"Correlation between 'pclass' and 'Embarked': {correlation}\")"
   ]
  },
  {
   "cell_type": "markdown",
   "id": "f9d75202-2e02-4593-aae0-85673ed72214",
   "metadata": {},
   "source": [
    "Answer 7 (C)"
   ]
  },
  {
   "cell_type": "code",
   "execution_count": 169,
   "id": "f277582c-e423-421f-8e30-8453fcccdd22",
   "metadata": {},
   "outputs": [],
   "source": [
    "df_dummies = pd.get_dummies(df, columns=['sex'])"
   ]
  },
  {
   "cell_type": "code",
   "execution_count": 170,
   "id": "dbfcc619-41bf-4074-a853-80bcba3087b0",
   "metadata": {},
   "outputs": [
    {
     "name": "stdout",
     "output_type": "stream",
     "text": [
      "Correlation between 'pclass' and 'Embarked': nan\n"
     ]
    }
   ],
   "source": [
    "df['embarked'] = df['embarked'].map({'C': 1, 'S': 2, 'Q': 3})\n",
    "correlation = df['sex'].corr(df['embarked'])\n",
    "print(f\"Correlation between 'pclass' and 'Embarked': {correlation}\")"
   ]
  },
  {
   "cell_type": "code",
   "execution_count": null,
   "id": "bbfbdbe8-d63c-4ab7-9ba2-61c3d89bec80",
   "metadata": {},
   "outputs": [],
   "source": []
  },
  {
   "cell_type": "code",
   "execution_count": null,
   "id": "cc02c991-baeb-4762-8369-5c7f6a775c34",
   "metadata": {},
   "outputs": [],
   "source": []
  }
 ],
 "metadata": {
  "kernelspec": {
   "display_name": "Python 3 (ipykernel)",
   "language": "python",
   "name": "python3"
  },
  "language_info": {
   "codemirror_mode": {
    "name": "ipython",
    "version": 3
   },
   "file_extension": ".py",
   "mimetype": "text/x-python",
   "name": "python",
   "nbconvert_exporter": "python",
   "pygments_lexer": "ipython3",
   "version": "3.11.7"
  }
 },
 "nbformat": 4,
 "nbformat_minor": 5
}
